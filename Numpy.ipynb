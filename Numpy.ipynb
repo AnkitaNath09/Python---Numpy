{
 "cells": [
  {
   "cell_type": "markdown",
   "id": "0280a005",
   "metadata": {},
   "source": [
    "# What is Numpy?\n",
    "- NumPy is the fundamental package for scientific computing in Python.\n",
    "\n",
    "- NumPy arrays facilitate advanced mathematical and other types of operations on large numbers of data.\n",
    "\n",
    "- NumPy arrays are stored at one continuous place in memory unlike lists, so processes can access and manipulate them very efficiently.\n",
    "\n",
    "- This behavior is called locality of reference in computer science.\n"
   ]
  },
  {
   "cell_type": "markdown",
   "id": "639cbb72",
   "metadata": {},
   "source": [
    "# Why use Numpy?\n",
    "- NumPy can be used to perform a wide variety of mathematical operations on arrays.\n",
    "- NumPy stands for 'numerical Python', and builds on the early work of the Numeric and Numarray libraries with the goal to give fast numeric computation to Python."
   ]
  },
  {
   "cell_type": "code",
   "execution_count": 49,
   "id": "37fcba18",
   "metadata": {},
   "outputs": [
    {
     "name": "stdout",
     "output_type": "stream",
     "text": [
      "[ 5 10 15 20 25]\n"
     ]
    }
   ],
   "source": [
    "#import NumPy Library\n",
    "import numpy\n",
    "arr = numpy.array([5,10,15,20,25])\n",
    "print(arr)"
   ]
  },
  {
   "cell_type": "code",
   "execution_count": 2,
   "id": "6e755227",
   "metadata": {},
   "outputs": [
    {
     "name": "stdout",
     "output_type": "stream",
     "text": [
      "[ 5 10 15 20 25]\n"
     ]
    }
   ],
   "source": [
    "\n",
    "import numpy as np\n",
    "arr = np.array([5,10,15,20,25])\n",
    "print(arr)"
   ]
  },
  {
   "cell_type": "code",
   "execution_count": null,
   "id": "f62b7cdb",
   "metadata": {},
   "outputs": [],
   "source": []
  },
  {
   "cell_type": "code",
   "execution_count": 3,
   "id": "ba3594b7",
   "metadata": {},
   "outputs": [
    {
     "name": "stdout",
     "output_type": "stream",
     "text": [
      "1.23.1\n"
     ]
    }
   ],
   "source": [
    "\n",
    "#checking version of numpy\n",
    "print(np.__version__)"
   ]
  },
  {
   "cell_type": "code",
   "execution_count": 4,
   "id": "79517640",
   "metadata": {},
   "outputs": [
    {
     "name": "stdout",
     "output_type": "stream",
     "text": [
      "[10 20 30 40 50]\n",
      "<class 'numpy.ndarray'>\n"
     ]
    }
   ],
   "source": [
    "import numpy as np\n",
    "arr = np.array((10,20,30,40,50))\n",
    "print(arr)\n",
    "print(type(arr))"
   ]
  },
  {
   "cell_type": "code",
   "execution_count": 5,
   "id": "00220939",
   "metadata": {},
   "outputs": [
    {
     "name": "stdout",
     "output_type": "stream",
     "text": [
      "11\n",
      "<class 'numpy.ndarray'>\n"
     ]
    }
   ],
   "source": [
    "\n",
    "import numpy as np\n",
    "arr = np.array(11)\n",
    "print(arr)\n",
    "print(type(arr))"
   ]
  },
  {
   "cell_type": "code",
   "execution_count": 6,
   "id": "216fd93f",
   "metadata": {},
   "outputs": [
    {
     "name": "stdout",
     "output_type": "stream",
     "text": [
      "[10 20 30 40]\n"
     ]
    }
   ],
   "source": [
    "\n",
    "import numpy as np\n",
    "arr = np.array([10,20,30,40])\n",
    "print(arr)"
   ]
  },
  {
   "cell_type": "code",
   "execution_count": 7,
   "id": "3859c24e",
   "metadata": {},
   "outputs": [
    {
     "name": "stdout",
     "output_type": "stream",
     "text": [
      "[[1 2 3 4]\n",
      " [5 6 7 8]]\n"
     ]
    }
   ],
   "source": [
    "import numpy as np\n",
    "arr = np.array([[1,2,3,4],[5,6,7,8]])\n",
    "print(arr)"
   ]
  },
  {
   "cell_type": "code",
   "execution_count": 8,
   "id": "a2d26801",
   "metadata": {},
   "outputs": [
    {
     "name": "stdout",
     "output_type": "stream",
     "text": [
      "[[[ 1  2  3  4]\n",
      "  [ 5  6  7  8]]\n",
      "\n",
      " [[10 20 30 40]\n",
      "  [60 70 80 90]]]\n"
     ]
    }
   ],
   "source": [
    "import numpy as np\n",
    "arr = np.array([[[1,2,3,4],[5,6,7,8]],[[10,20,30,40],[60,70,80,90]]])\n",
    "print(arr)"
   ]
  },
  {
   "cell_type": "code",
   "execution_count": 9,
   "id": "c11e5980",
   "metadata": {},
   "outputs": [
    {
     "name": "stdout",
     "output_type": "stream",
     "text": [
      "n1 is  0 -D Array\n",
      "n2 is  1 -D Array\n",
      "n3 is  2 -D Array\n",
      "n4 is  3 -D Array\n"
     ]
    }
   ],
   "source": [
    "# Check Number of Dimensions\n",
    "import numpy as np\n",
    "\n",
    "n1 = np.array(11)\n",
    "n2 = np.array([10,20,30,40])\n",
    "n3 = np.array([[1,2,3,4],[5,6,7,8]])\n",
    "n4 = np.array([[[1,2,3,4],[5,6,7,8]],[[10,20,30,40],[60,70,80,90]]])\n",
    "\n",
    "print(\"n1 is \",n1.ndim,\"-D Array\")\n",
    "print(\"n2 is \",n2.ndim,\"-D Array\")\n",
    "print(\"n3 is \",n3.ndim,\"-D Array\")\n",
    "print(\"n4 is \",n4.ndim,\"-D Array\")"
   ]
  },
  {
   "cell_type": "code",
   "execution_count": 10,
   "id": "94dd10fe",
   "metadata": {},
   "outputs": [
    {
     "name": "stdout",
     "output_type": "stream",
     "text": [
      "[[[[[[10 20 30 40]]]]]]\n",
      "Dimension of n2 is : 6\n"
     ]
    }
   ],
   "source": [
    "\n",
    "import numpy as np\n",
    "n2 = np.array([10,20,30,40], ndmin=6)\n",
    "print(n2)\n",
    "print(\"Dimension of n2 is :\", n2.ndim)"
   ]
  },
  {
   "cell_type": "code",
   "execution_count": 51,
   "id": "0572af86",
   "metadata": {},
   "outputs": [
    {
     "data": {
      "text/plain": [
       "array([[1., 1., 1., 1.],\n",
       "       [1., 1., 1., 1.],\n",
       "       [1., 1., 1., 1.]])"
      ]
     },
     "execution_count": 51,
     "metadata": {},
     "output_type": "execute_result"
    }
   ],
   "source": [
    "#np.ones & np.zeros\n",
    "np.ones((3,4))"
   ]
  },
  {
   "cell_type": "code",
   "execution_count": 52,
   "id": "d789b2b0",
   "metadata": {},
   "outputs": [
    {
     "data": {
      "text/plain": [
       "array([[0.54674545, 0.90883888, 0.85624459, 0.53476704],\n",
       "       [0.68829745, 0.01995884, 0.30388265, 0.54748114],\n",
       "       [0.04096392, 0.37422776, 0.29993146, 0.67833663]])"
      ]
     },
     "execution_count": 52,
     "metadata": {},
     "output_type": "execute_result"
    }
   ],
   "source": [
    "np.random.random((3,4))"
   ]
  },
  {
   "cell_type": "markdown",
   "id": "8522df28",
   "metadata": {},
   "source": [
    "# Arrange"
   ]
  },
  {
   "cell_type": "code",
   "execution_count": 53,
   "id": "b2e01cf6",
   "metadata": {},
   "outputs": [
    {
     "data": {
      "text/plain": [
       "array([ 1,  2,  3,  4,  5,  6,  7,  8,  9, 10, 11])"
      ]
     },
     "execution_count": 53,
     "metadata": {},
     "output_type": "execute_result"
    }
   ],
   "source": [
    "np.arange(1,12)"
   ]
  },
  {
   "cell_type": "code",
   "execution_count": 54,
   "id": "c68d8eec",
   "metadata": {},
   "outputs": [],
   "source": [
    "a1 = np.arange(10)\n",
    "a2 =  np.arange(12,dtype=float).reshape(3,4)\n",
    "a3 =  np.arange(8).reshape(2,2,2)\n"
   ]
  },
  {
   "cell_type": "code",
   "execution_count": 55,
   "id": "aa9a4958",
   "metadata": {},
   "outputs": [
    {
     "data": {
      "text/plain": [
       "array([0, 1, 2, 3, 4, 5, 6, 7, 8, 9])"
      ]
     },
     "execution_count": 55,
     "metadata": {},
     "output_type": "execute_result"
    }
   ],
   "source": [
    "a1"
   ]
  },
  {
   "cell_type": "code",
   "execution_count": 56,
   "id": "039ec5df",
   "metadata": {},
   "outputs": [
    {
     "data": {
      "text/plain": [
       "array([[ 0.,  1.,  2.,  3.],\n",
       "       [ 4.,  5.,  6.,  7.],\n",
       "       [ 8.,  9., 10., 11.]])"
      ]
     },
     "execution_count": 56,
     "metadata": {},
     "output_type": "execute_result"
    }
   ],
   "source": [
    "a2"
   ]
  },
  {
   "cell_type": "code",
   "execution_count": 57,
   "id": "6684faf0",
   "metadata": {},
   "outputs": [
    {
     "data": {
      "text/plain": [
       "array([[[0, 1],\n",
       "        [2, 3]],\n",
       "\n",
       "       [[4, 5],\n",
       "        [6, 7]]])"
      ]
     },
     "execution_count": 57,
     "metadata": {},
     "output_type": "execute_result"
    }
   ],
   "source": [
    "a3"
   ]
  },
  {
   "cell_type": "markdown",
   "id": "873d8f31",
   "metadata": {},
   "source": [
    "# NumPy Array Indexing\n",
    "\n",
    "Access Array Elements\n",
    "\n",
    "Array indexing is the same as accessing an array element.\n",
    "We can access an array element by referring to its index number.\n",
    "The indexes in NumPy arrays start with 0, meaning that the first element has index 0, and the second has index 1 etc"
   ]
  },
  {
   "cell_type": "code",
   "execution_count": 11,
   "id": "57b03700",
   "metadata": {},
   "outputs": [
    {
     "name": "stdout",
     "output_type": "stream",
     "text": [
      "10\n",
      "11\n",
      "896885\n",
      "88\n"
     ]
    }
   ],
   "source": [
    "import numpy as np\n",
    "arr = np.array([10,11,22,33,44,55,66,7,8,9,1245,9999,896885])\n",
    "\n",
    "#Get the first element from the  array\n",
    "print(arr[0])\n",
    "\n",
    "#Get the second element from the  array\n",
    "print(arr[1])\n",
    "\n",
    "#Get the last element from the  array\n",
    "print(arr[-1])\n",
    "\n",
    "#Get the 4th element & 6th element from the array and add them\n",
    "print(arr[3] + arr[5])"
   ]
  },
  {
   "cell_type": "code",
   "execution_count": 12,
   "id": "27508a27",
   "metadata": {},
   "outputs": [
    {
     "name": "stdout",
     "output_type": "stream",
     "text": [
      "[[1 2 3 4]\n",
      " [5 6 7 8]]\n",
      "third element of first row : 3\n",
      "third element of 2nd row : 7\n",
      "4th element of first row & 2nd element of 2nd row and add them : 10\n"
     ]
    }
   ],
   "source": [
    "import numpy as np\n",
    "arr = np.array([[1,2,3,4],[5,6,7,8]])\n",
    "print(arr)\n",
    "print(\"third element of first row :\",arr[0,2])\n",
    "\n",
    "print(\"third element of 2nd row :\",arr[1,2])\n",
    "\n",
    "print(\"4th element of first row & 2nd element of 2nd row and add them :\",arr[0,3] + arr[1,1])"
   ]
  },
  {
   "cell_type": "code",
   "execution_count": 13,
   "id": "c78e03db",
   "metadata": {},
   "outputs": [
    {
     "name": "stdout",
     "output_type": "stream",
     "text": [
      "[[[ 1  2  3  4]\n",
      "  [ 5  6  7  8]]\n",
      "\n",
      " [[10 20 30 40]\n",
      "  [60 70 80 90]]]\n",
      "1\n",
      "8\n",
      "30\n"
     ]
    }
   ],
   "source": [
    "import numpy as np\n",
    "arr = np.array([[[1,2,3,4],[5,6,7,8]],[[10,20,30,40],[60,70,80,90]]])\n",
    "print(arr)\n",
    "print(arr[0,0,0])\n",
    "print(arr[0,1,3])\n",
    "print(arr[1,0,2])"
   ]
  },
  {
   "cell_type": "markdown",
   "id": "ddf55736",
   "metadata": {},
   "source": [
    "#  NumPy Array Slicing\n",
    "\n",
    "→Slicing arrays\n",
    "\n",
    "Slicing in python means taking elements from one given index to another given index.\n",
    "We pass slice instead of index like this: [start:end].\n",
    "We can also define the step, like this: [start:end:step].\n",
    "If we don't pass start its considered 0\n",
    "If we don't pass end its considered length of array in that dimension\n",
    "If we don't pass step its considered 1"
   ]
  },
  {
   "cell_type": "code",
   "execution_count": 14,
   "id": "de517f91",
   "metadata": {},
   "outputs": [
    {
     "name": "stdout",
     "output_type": "stream",
     "text": [
      "[11 22]\n"
     ]
    }
   ],
   "source": [
    "#Slice elements from index 1 to index 3 from the following array:\n",
    "import numpy as np\n",
    "arr = np.array([10,11,22,33,44,55,66,7,8,9,12,45,99,89,68,85])\n",
    "print(arr[1:3])\n",
    "     "
   ]
  },
  {
   "cell_type": "code",
   "execution_count": 15,
   "id": "78f45484",
   "metadata": {},
   "outputs": [
    {
     "name": "stdout",
     "output_type": "stream",
     "text": [
      "[66  7  8  9 12 45 99 89 68 85]\n"
     ]
    }
   ],
   "source": [
    "#Slice elements from index 6 to the end of the array:\n",
    "import numpy as np\n",
    "arr = np.array([10,11,22,33,44,55,66,7,8,9,12,45,99,89,68,85])\n",
    "\n",
    "print(arr[6:])"
   ]
  },
  {
   "cell_type": "code",
   "execution_count": 16,
   "id": "434a8a76",
   "metadata": {},
   "outputs": [
    {
     "name": "stdout",
     "output_type": "stream",
     "text": [
      "[10 11 22 33 44 55 66  7]\n"
     ]
    }
   ],
   "source": [
    "#Slice elements from the beginning to index 8 (not included):\n",
    "import numpy as np\n",
    "arr = np.array([10,11,22,33,44,55,66,7,8,9,12,45,99,89,68,85])\n",
    "\n",
    "print(arr[:8])"
   ]
  },
  {
   "cell_type": "code",
   "execution_count": 17,
   "id": "9e2d34f6",
   "metadata": {},
   "outputs": [
    {
     "name": "stdout",
     "output_type": "stream",
     "text": [
      "[12 45 99 89 68]\n",
      "[33 44 55 66  7  8  9]\n"
     ]
    }
   ],
   "source": [
    "import numpy as np\n",
    "arr = np.array([10,11,22,33,44,55,66,7,8,9,12,45,99,89,68,85])\n",
    "\n",
    "print(arr[-6:-1])\n",
    "print(arr[-13:-6])"
   ]
  },
  {
   "cell_type": "code",
   "execution_count": 18,
   "id": "945161f1",
   "metadata": {},
   "outputs": [
    {
     "name": "stdout",
     "output_type": "stream",
     "text": [
      "[2 3]\n",
      "[2 3 4]\n",
      "[3 4]\n",
      "[5 6 7 8]\n"
     ]
    }
   ],
   "source": [
    "import numpy as np\n",
    "arr = np.array([[1,2,3,4],[5,6,7,8]])\n",
    "\n",
    "print(arr[0,1:3])\n",
    "print(arr[0, 1:4])\n",
    "print(arr[0, 2:8])\n",
    "\n",
    "print(arr[1, 0:4])"
   ]
  },
  {
   "cell_type": "code",
   "execution_count": 19,
   "id": "2fdbea07",
   "metadata": {},
   "outputs": [
    {
     "name": "stdout",
     "output_type": "stream",
     "text": [
      "[2 6]\n",
      "[4 8]\n",
      "[[2 3]\n",
      " [6 7]]\n"
     ]
    }
   ],
   "source": [
    "\n",
    "import numpy as np\n",
    "arr = np.array([[1,2,3,4],[5,6,7,8]])\n",
    "\n",
    "print(arr[0:2 ,1])\n",
    "print(arr[0:2, 3])\n",
    "\n",
    "print(arr[0:2 , 1:3 ])"
   ]
  },
  {
   "cell_type": "code",
   "execution_count": 20,
   "id": "33269f86",
   "metadata": {},
   "outputs": [
    {
     "name": "stdout",
     "output_type": "stream",
     "text": [
      "[2 4 6]\n",
      "[2 5 8]\n",
      "[1 4 7]\n"
     ]
    }
   ],
   "source": [
    "#Step Slicing\n",
    "import numpy as np\n",
    "arr = np.array([1,2,3,4,5,6,7,8])\n",
    "\n",
    "print(arr[1:6:2])\n",
    "print(arr[1:8:3])\n",
    "print(arr[::3])"
   ]
  },
  {
   "cell_type": "markdown",
   "id": "7643819d",
   "metadata": {},
   "source": [
    "# Checking the Data Type of an Array"
   ]
  },
  {
   "cell_type": "code",
   "execution_count": 21,
   "id": "39dcab53",
   "metadata": {},
   "outputs": [
    {
     "name": "stdout",
     "output_type": "stream",
     "text": [
      "int32\n"
     ]
    }
   ],
   "source": [
    "\n",
    "import numpy as np\n",
    "arr = np.array([1, 2, -3, 4])\n",
    "print(arr.dtype)"
   ]
  },
  {
   "cell_type": "code",
   "execution_count": 22,
   "id": "2d6bc901",
   "metadata": {},
   "outputs": [
    {
     "name": "stdout",
     "output_type": "stream",
     "text": [
      "<U17\n"
     ]
    }
   ],
   "source": [
    "import numpy as np\n",
    "arr = np.array(['YouTube','Simplifiedlearner','Google' , 'Apple'])\n",
    "print(arr.dtype)"
   ]
  },
  {
   "cell_type": "code",
   "execution_count": 23,
   "id": "5c90e9c6",
   "metadata": {},
   "outputs": [
    {
     "name": "stdout",
     "output_type": "stream",
     "text": [
      "float64\n",
      "The new array is : [1 2 9 5]\n",
      "int32\n"
     ]
    }
   ],
   "source": [
    "#converting data type\n",
    "\n",
    "import numpy as np\n",
    "arr = np.array([1.1,2.6,9.89,5.76])\n",
    "print(arr.dtype)\n",
    "\n",
    "n1 = arr.astype(\"i\")\n",
    "print(\"The new array is :\", n1)\n",
    "print(n1.dtype)"
   ]
  },
  {
   "cell_type": "markdown",
   "id": "7b4eee81",
   "metadata": {},
   "source": [
    "# *► NumPy Array Copy vs View*\n",
    "\n",
    "The Difference Between Copy and View : The main difference between a copy and a view of an array is that the copy is a new array, and the view is just a view of the original array.\n",
    "The copy owns the data and any changes made to the copy will not affect original array, and any changes made to the original array will not affect the copy.\n",
    "The view does not own the data and any changes made to the view will affect the original array, and any changes made to the original array will affect the view"
   ]
  },
  {
   "cell_type": "code",
   "execution_count": 24,
   "id": "b4d6d9d1",
   "metadata": {},
   "outputs": [
    {
     "name": "stdout",
     "output_type": "stream",
     "text": [
      "Original Data: [ 1  2 50  4  5  6]\n",
      "Copied Data: [89  2  3  4  5  6]\n"
     ]
    }
   ],
   "source": [
    "import numpy as np\n",
    "arr = np.array([1,2,3,4,5,6])\n",
    "\n",
    "n1 = arr.copy()\n",
    "\n",
    "arr[2] = 50\n",
    "\n",
    "n1[0] = 89\n",
    "\n",
    "print(\"Original Data:\", arr)\n",
    "print(\"Copied Data:\", n1)"
   ]
  },
  {
   "cell_type": "code",
   "execution_count": 25,
   "id": "ec8606a4",
   "metadata": {},
   "outputs": [
    {
     "name": "stdout",
     "output_type": "stream",
     "text": [
      "Original Data: [22  2  3  4  5  8]\n",
      "Viewed Data: [22  2  3  4  5  8]\n"
     ]
    }
   ],
   "source": [
    "import numpy as np\n",
    "arr = np.array([1,2,3,4,5,6])\n",
    "\n",
    "n1 = arr.view()\n",
    "\n",
    "arr[0] = 22\n",
    "n1[-1] = 8\n",
    "\n",
    "print(\"Original Data:\", arr)\n",
    "print(\"Viewed Data:\", n1)"
   ]
  },
  {
   "cell_type": "markdown",
   "id": "60eb0d97",
   "metadata": {},
   "source": [
    "# Array Shape"
   ]
  },
  {
   "cell_type": "code",
   "execution_count": 26,
   "id": "4507cf70",
   "metadata": {},
   "outputs": [
    {
     "name": "stdout",
     "output_type": "stream",
     "text": [
      "[[1 2 3 4]\n",
      " [5 6 7 8]]\n",
      "Dimension of array is : 2\n",
      "Shape of this array is : (2, 4)\n"
     ]
    }
   ],
   "source": [
    "\n",
    "import numpy as np\n",
    "arr = np.array([[1,2,3,4],[5,6,7,8]])\n",
    "print(arr)\n",
    "\n",
    "print(\"Dimension of array is :\", arr.ndim)\n",
    "print(\"Shape of this array is :\", arr.shape)"
   ]
  },
  {
   "cell_type": "code",
   "execution_count": 27,
   "id": "1afa51f2",
   "metadata": {},
   "outputs": [
    {
     "name": "stdout",
     "output_type": "stream",
     "text": [
      "Dimension of Original Array: 1\n",
      "Original Array: [ 5 10 15 20 25 30 35 40 45 50 55 60]\n",
      "Reshaped Array:→\n",
      "[[ 5 10 15 20]\n",
      " [25 30 35 40]\n",
      " [45 50 55 60]]\n",
      "Dimension of Reshaped Array: 2\n"
     ]
    }
   ],
   "source": [
    "# Reshape : 1D to 2D\n",
    "import numpy as np\n",
    "arr = np.array([5,10,15,20,25,30,35,40,45,50,55,60])\n",
    "print(\"Dimension of Original Array:\",arr.ndim)\n",
    "\n",
    "n1 = arr.reshape(3,4)\n",
    "\n",
    "print(\"Original Array:\", arr)\n",
    "print(\"Reshaped Array:→\")\n",
    "print(n1)\n",
    "print(\"Dimension of Reshaped Array:\",n1.ndim)"
   ]
  },
  {
   "cell_type": "code",
   "execution_count": 28,
   "id": "3a7f0ac0",
   "metadata": {},
   "outputs": [
    {
     "name": "stdout",
     "output_type": "stream",
     "text": [
      "Original Array: [ 5 10 15 20 25 30 35 40 45 50 55 60]\n",
      "Dimension of Original Array: 1\n",
      "Reshaped Array:→\n",
      "[[[ 5 10]\n",
      "  [15 20]\n",
      "  [25 30]]\n",
      "\n",
      " [[35 40]\n",
      "  [45 50]\n",
      "  [55 60]]]\n",
      "Dimension of Reshaped Array: 3\n"
     ]
    }
   ],
   "source": [
    "# 1D to 3D\n",
    "\n",
    "import numpy as np\n",
    "arr = np.array([5,10,15,20,25,30,35,40,45,50,55,60])\n",
    "\n",
    "n1 = arr.reshape(2,3,2)\n",
    "\n",
    "print(\"Original Array:\", arr)\n",
    "print(\"Dimension of Original Array:\",arr.ndim)\n",
    "\n",
    "print(\"Reshaped Array:→\")\n",
    "print(n1)\n",
    "print(\"Dimension of Reshaped Array:\",n1.ndim)\n",
    "     "
   ]
  },
  {
   "cell_type": "markdown",
   "id": "13214051",
   "metadata": {},
   "source": [
    "# NumPy Array Iterating"
   ]
  },
  {
   "cell_type": "code",
   "execution_count": 29,
   "id": "7fe58b0c",
   "metadata": {},
   "outputs": [
    {
     "name": "stdout",
     "output_type": "stream",
     "text": [
      "5\n",
      "10\n",
      "15\n",
      "20\n",
      "25\n",
      "30\n",
      "35\n",
      "40\n",
      "45\n",
      "50\n",
      "55\n",
      "60\n"
     ]
    }
   ],
   "source": [
    "# Iterate 1-D array\n",
    "import numpy as np\n",
    "arr = np.array([5,10,15,20,25,30,35,40,45,50,55,60])\n",
    "\n",
    "for x in arr:\n",
    "  print(x)"
   ]
  },
  {
   "cell_type": "code",
   "execution_count": 30,
   "id": "ac3e643d",
   "metadata": {},
   "outputs": [
    {
     "name": "stdout",
     "output_type": "stream",
     "text": [
      "[1 2 3 4]\n",
      "[5 6 7 8]\n"
     ]
    }
   ],
   "source": [
    "#Iterate 2-D array\n",
    "\n",
    "import numpy as np\n",
    "arr = np.array([[1,2,3,4],[5,6,7,8]])\n",
    "\n",
    "for x in arr:\n",
    "  print(x)"
   ]
  },
  {
   "cell_type": "code",
   "execution_count": 31,
   "id": "2e7055de",
   "metadata": {},
   "outputs": [
    {
     "name": "stdout",
     "output_type": "stream",
     "text": [
      "1\n",
      "2\n",
      "3\n",
      "4\n",
      "5\n",
      "6\n",
      "7\n",
      "8\n"
     ]
    }
   ],
   "source": [
    "# Iterate 2-D array in saclar manner\n",
    "import numpy as np\n",
    "arr = np.array([[1,2,3,4],[5,6,7,8]])\n",
    "\n",
    "for x in arr:\n",
    "  for y in x:\n",
    "    print(y)"
   ]
  },
  {
   "cell_type": "code",
   "execution_count": 32,
   "id": "ca36ddd9",
   "metadata": {},
   "outputs": [
    {
     "name": "stdout",
     "output_type": "stream",
     "text": [
      "[[1 2 3 4]\n",
      " [5 6 7 8]]\n",
      "[[10 20 30 40]\n",
      " [60 70 80 90]]\n"
     ]
    }
   ],
   "source": [
    "#Iterate 3-D array\n",
    "import numpy as np\n",
    "arr = np.array([[[1,2,3,4],[5,6,7,8]],[[10,20,30,40],[60,70,80,90]]])\n",
    "\n",
    "for x in arr:\n",
    "  print(x)"
   ]
  },
  {
   "cell_type": "code",
   "execution_count": 33,
   "id": "a6d12212",
   "metadata": {},
   "outputs": [
    {
     "name": "stdout",
     "output_type": "stream",
     "text": [
      "1\n",
      "2\n",
      "3\n",
      "4\n",
      "5\n",
      "6\n",
      "7\n",
      "8\n",
      "10\n",
      "20\n",
      "30\n",
      "40\n",
      "60\n",
      "70\n",
      "80\n",
      "90\n"
     ]
    }
   ],
   "source": [
    "# Iterate 3-D array in saclar manner\n",
    "import numpy as np\n",
    "arr = np.array([[[1,2,3,4],[5,6,7,8]],[[10,20,30,40],[60,70,80,90]]])\n",
    "\n",
    "for x in arr:\n",
    "  for y in x:\n",
    "    for z in y:\n",
    "      print(z)"
   ]
  },
  {
   "cell_type": "code",
   "execution_count": null,
   "id": "b4b26bb6",
   "metadata": {},
   "outputs": [],
   "source": [
    "# "
   ]
  },
  {
   "cell_type": "code",
   "execution_count": 34,
   "id": "85441d7b",
   "metadata": {},
   "outputs": [
    {
     "name": "stdout",
     "output_type": "stream",
     "text": [
      "[[1 2 3 4]\n",
      " [5 6 7 8]]\n",
      "(0, 0) 1\n",
      "(0, 1) 2\n",
      "(0, 2) 3\n",
      "(0, 3) 4\n",
      "(1, 0) 5\n",
      "(1, 1) 6\n",
      "(1, 2) 7\n",
      "(1, 3) 8\n"
     ]
    }
   ],
   "source": [
    "import numpy as np\n",
    "arr = np.array([[1, 2, 3, 4], [5, 6, 7, 8]])\n",
    "print(arr)\n",
    "\n",
    "for x,y in np.ndenumerate(arr):\n",
    "  print(x,y)"
   ]
  },
  {
   "cell_type": "markdown",
   "id": "1b644913",
   "metadata": {},
   "source": [
    "# NumPy Joining Array"
   ]
  },
  {
   "cell_type": "code",
   "execution_count": 35,
   "id": "03b32a09",
   "metadata": {},
   "outputs": [
    {
     "name": "stdout",
     "output_type": "stream",
     "text": [
      "[ 2  4  6  8  5 10 15 20]\n"
     ]
    }
   ],
   "source": [
    "#Join two arays\n",
    "import numpy as np\n",
    "\n",
    "n1 = np.array([5,10,15,20])\n",
    "n2 = np.array([2,4,6,8])\n",
    "\n",
    "arr = np.concatenate((n2,n1))\n",
    "print(arr)"
   ]
  },
  {
   "cell_type": "code",
   "execution_count": 36,
   "id": "a377a11b",
   "metadata": {},
   "outputs": [
    {
     "name": "stdout",
     "output_type": "stream",
     "text": [
      "[[1 2]\n",
      " [3 4]\n",
      " [6 7]\n",
      " [8 9]]\n"
     ]
    }
   ],
   "source": [
    "#Join two 2-D array\n",
    "import numpy as np\n",
    "\n",
    "n1 = np.array([[1,2],[3,4]])\n",
    "n2 = np.array([[6,7],[8,9]])\n",
    "\n",
    "arr = np.concatenate((n1,n2))\n",
    "\n",
    "print(arr)"
   ]
  },
  {
   "cell_type": "code",
   "execution_count": 37,
   "id": "281bf341",
   "metadata": {},
   "outputs": [
    {
     "name": "stdout",
     "output_type": "stream",
     "text": [
      "[[1 2 6 7]\n",
      " [3 4 8 9]]\n"
     ]
    }
   ],
   "source": [
    "#Join two 2-D arrays along rows (axis=1):\n",
    "import numpy as np\n",
    "\n",
    "n1 = np.array([[1,2],[3,4]])\n",
    "n2 = np.array([[6,7],[8,9]])\n",
    "\n",
    "arr = np.concatenate((n1,n2), axis=1)\n",
    "\n",
    "print(arr)"
   ]
  },
  {
   "cell_type": "markdown",
   "id": "2feea6bd",
   "metadata": {},
   "source": [
    "# Joining Arrays Using Stack Functions"
   ]
  },
  {
   "cell_type": "code",
   "execution_count": 38,
   "id": "eafb70d0",
   "metadata": {},
   "outputs": [
    {
     "name": "stdout",
     "output_type": "stream",
     "text": [
      "[[ 5  2]\n",
      " [10  4]\n",
      " [15  6]\n",
      " [20  8]]\n"
     ]
    }
   ],
   "source": [
    "import numpy as np\n",
    "\n",
    "n1 = np.array([5,10,15,20])\n",
    "n2 = np.array([2,4,6,8])\n",
    "\n",
    "arr = np.stack((n1,n2), axis=1)\n",
    "\n",
    "print(arr)"
   ]
  },
  {
   "cell_type": "code",
   "execution_count": 39,
   "id": "f2d76a08",
   "metadata": {},
   "outputs": [
    {
     "name": "stdout",
     "output_type": "stream",
     "text": [
      "[ 5 10 15 20  2  4  6  8]\n"
     ]
    }
   ],
   "source": [
    "#Stacking Along Rows →hstack\n",
    "import numpy as np\n",
    "\n",
    "n1 = np.array([5,10,15,20])\n",
    "n2 = np.array([2,4,6,8])\n",
    "\n",
    "arr = np.hstack((n1,n2))\n",
    "\n",
    "print(arr)\n",
    "     "
   ]
  },
  {
   "cell_type": "code",
   "execution_count": 40,
   "id": "cd655b8c",
   "metadata": {},
   "outputs": [
    {
     "name": "stdout",
     "output_type": "stream",
     "text": [
      "[[ 5 10 15 20]\n",
      " [ 2  4  6  8]]\n"
     ]
    }
   ],
   "source": [
    "#Stacking Along Columns → vstack\n",
    "import numpy as np\n",
    "\n",
    "n1 = np.array([5,10,15,20])\n",
    "n2 = np.array([2,4,6,8])\n",
    "\n",
    "arr = np.vstack((n1,n2))\n",
    "\n",
    "print(arr)\n",
    "     "
   ]
  },
  {
   "cell_type": "markdown",
   "id": "7665d7f3",
   "metadata": {},
   "source": [
    "# NumPy Searching Arrays"
   ]
  },
  {
   "cell_type": "code",
   "execution_count": 41,
   "id": "1eb4c678",
   "metadata": {},
   "outputs": [
    {
     "name": "stdout",
     "output_type": "stream",
     "text": [
      "(array([0, 3, 4, 6], dtype=int64),)\n"
     ]
    }
   ],
   "source": [
    "import numpy as np\n",
    "n1 = np.array([5,10,15,5,5,20,5,2])\n",
    "\n",
    "arr = np.where(n1 == 5)\n",
    "print(arr) #this will return index of all the 5"
   ]
  },
  {
   "cell_type": "code",
   "execution_count": 42,
   "id": "5f3c3b78",
   "metadata": {},
   "outputs": [
    {
     "name": "stdout",
     "output_type": "stream",
     "text": [
      "(array([0, 0, 0, 1, 1], dtype=int64), array([0, 2, 4, 0, 2], dtype=int64))\n"
     ]
    }
   ],
   "source": [
    "import numpy as np\n",
    "\n",
    "n1 = np.array([[1,2,1,5,1],[1,5,1,3,4]])\n",
    "\n",
    "arr = np.where(n1 == 1)\n",
    "print(arr) "
   ]
  },
  {
   "cell_type": "code",
   "execution_count": 43,
   "id": "97281464",
   "metadata": {},
   "outputs": [
    {
     "name": "stdout",
     "output_type": "stream",
     "text": [
      "(array([1, 4, 5, 7], dtype=int64),)\n"
     ]
    }
   ],
   "source": [
    "import numpy as np\n",
    "n1 = np.array([5,10,15,5,24,20,5,2])\n",
    "\n",
    "arr = np.where(n1%2 == 0)\n",
    "print(arr) #returns index of all even number"
   ]
  },
  {
   "cell_type": "code",
   "execution_count": 44,
   "id": "91abca9c",
   "metadata": {},
   "outputs": [
    {
     "name": "stdout",
     "output_type": "stream",
     "text": [
      "1\n"
     ]
    }
   ],
   "source": [
    "import numpy as np\n",
    "arr = np.array([2, 5, 6, 7, 8, 9])\n",
    "\n",
    "n1 = np.searchsorted(arr, 5)\n",
    "print(n1)"
   ]
  },
  {
   "cell_type": "code",
   "execution_count": 45,
   "id": "c55c30ba",
   "metadata": {},
   "outputs": [
    {
     "name": "stdout",
     "output_type": "stream",
     "text": [
      "[2 3 4]\n"
     ]
    }
   ],
   "source": [
    "#Find the indexes where the values 3, 5, and 7 should be inserted:\n",
    "import numpy as np\n",
    "arr = np.array([1,2,4,6,8,9])\n",
    "\n",
    "n1 = np.searchsorted(arr,[3,5,7])\n",
    "print(n1)"
   ]
  },
  {
   "cell_type": "code",
   "execution_count": 46,
   "id": "cd61c633",
   "metadata": {},
   "outputs": [
    {
     "name": "stdout",
     "output_type": "stream",
     "text": [
      "[-2  0  1  3  6  8 77]\n"
     ]
    }
   ],
   "source": [
    "import numpy as np\n",
    "n1 = np.array([1,3,8,0,6,77,-2])\n",
    "\n",
    "print(np.sort(n1))"
   ]
  },
  {
   "cell_type": "code",
   "execution_count": 47,
   "id": "33a8462e",
   "metadata": {},
   "outputs": [
    {
     "name": "stdout",
     "output_type": "stream",
     "text": [
      "['apple' 'boss' 'cat' 'dog']\n"
     ]
    }
   ],
   "source": [
    "import numpy as np\n",
    "n1 = np.array(['cat','boss', 'dog', 'apple'])\n",
    "\n",
    "print(np.sort(n1))"
   ]
  },
  {
   "cell_type": "code",
   "execution_count": 48,
   "id": "d84343cb",
   "metadata": {},
   "outputs": [
    {
     "name": "stdout",
     "output_type": "stream",
     "text": [
      "[[ 2  3 14]\n",
      " [ 0  1  5]]\n"
     ]
    }
   ],
   "source": [
    "import numpy as np\n",
    "\n",
    "arr = np.array([[3, 2, 14], [5, 0, 1]])\n",
    "\n",
    "print(np.sort(arr))"
   ]
  },
  {
   "cell_type": "code",
   "execution_count": null,
   "id": "2c984bd5",
   "metadata": {},
   "outputs": [],
   "source": []
  }
 ],
 "metadata": {
  "kernelspec": {
   "display_name": "Python 3 (ipykernel)",
   "language": "python",
   "name": "python3"
  },
  "language_info": {
   "codemirror_mode": {
    "name": "ipython",
    "version": 3
   },
   "file_extension": ".py",
   "mimetype": "text/x-python",
   "name": "python",
   "nbconvert_exporter": "python",
   "pygments_lexer": "ipython3",
   "version": "3.8.8"
  }
 },
 "nbformat": 4,
 "nbformat_minor": 5
}
